{
  "nbformat": 4,
  "nbformat_minor": 0,
  "metadata": {
    "colab": {
      "provenance": [],
      "include_colab_link": true
    },
    "kernelspec": {
      "name": "python3",
      "display_name": "Python 3"
    },
    "language_info": {
      "name": "python"
    }
  },
  "cells": [
    {
      "cell_type": "markdown",
      "metadata": {
        "id": "view-in-github",
        "colab_type": "text"
      },
      "source": [
        "<a href=\"https://colab.research.google.com/github/Ali-7800/ME471/blob/main/HW5/problem_2.ipynb\" target=\"_parent\"><img src=\"https://colab.research.google.com/assets/colab-badge.svg\" alt=\"Open In Colab\"/></a>"
      ]
    },
    {
      "cell_type": "markdown",
      "source": [
        "# Isoparametric shape functions for 1D element\n",
        "\n",
        "Below is a function <code>shape1D</code> which computes the isoparametric shape functions and derivatives for a linear element.\n",
        "\n",
        "You could easily add functionality to compute shape functions for higher order elements by coding outputs for the cases where <code>order >= 2</code>."
      ],
      "metadata": {
        "id": "uGlIr4EK4YFc"
      }
    },
    {
      "cell_type": "code",
      "execution_count": 4,
      "metadata": {
        "id": "yUgh4Yhd22eL"
      },
      "outputs": [],
      "source": [
        "import numpy as np\n",
        "\n",
        "# Shape functions\n",
        "def shape1D(r, order=1):\n",
        "    '''\n",
        "    Inputs:\n",
        "    * r (float): isoparametric coordinate on the interval [-1, 1]\n",
        "    * order (integer): polynomial intoptional argument.\n",
        "    ----> optional argument that defaults to 1 if omitted\n",
        "    Outputs:\n",
        "    * Nhat (1D numpy array): Shape function values at r\n",
        "    * DNhat (1D numpy array): Shape function derivative values, d(Nhat)/dr, at r\n",
        "    '''\n",
        "\n",
        "    # Linear\n",
        "    if(order==1):\n",
        "        Nhat = np.array([(1-r)/2, (1+r)/2])\n",
        "        DNhat = np.array([-0.5, 0.5])\n",
        "        return Nhat, DNhat\n",
        "    # Quadratic\n",
        "    if(order==2):\n",
        "        Nhat = np.array([(r-1)*r/2, (1+r)*(1-r),(r+1)*r/2])\n",
        "        DNhat = np.array([r-0.5, -2*r,r+0.5])\n",
        "        return Nhat, DNhat\n",
        "    else:\n",
        "        print('Warning: order>2 shape functions not implemented')\n",
        "        return"
      ]
    },
    {
      "cell_type": "markdown",
      "source": [
        "# Numerical integration of an element load vector\n",
        "\n",
        "Consider a linear rod element with domain $X^e = [0,1,2]$ Suppose it has a constant area $A = 1$ and a body load $b(x) = x^2$. The load vector for the element can be computed via\n",
        "\n",
        "\\begin{align}\n",
        "\\mathbf{P}^e &= \\int_{X_1^e}^{X_2^e} \\mathbf{N}^{e^T}(x)b(x)A(x)dx\\\\\n",
        "             &= \\int_{-1}^1 \\mathbf{\\hat{N}}^T(r)\\hat{b}(r)\\hat{A}(r)J_e(r)dr\n",
        "\\end{align}\n",
        "\n",
        "Using Gauss quadrature, we can compute the integral numerically via\n",
        "\n",
        "$$\n",
        "\\mathbf{P}^e \\approx \\sum_{\\alpha=1}^{N_g} w_{\\alpha}\\mathbf{\\hat{N}}(r_\\alpha)\\hat{b}(r_{\\alpha})\\hat{A}(r_{\\alpha})J_e(r_{\\alpha})dr\n",
        "$$\n",
        "\n",
        "The computation will be exact is the integrand is a polynomial of degree $d$ and the inequality $d \\le 2N_g - 1$ is satisfied.For this linear element with the given body load and area, we have $d=5$ and so $N_g =3$ is the mininum number of Gauss quadrature points needed for exact integration.\n",
        "\n",
        "The code below is set up to compute the integral using 1, 2, or 3 quadrature points depending on the value you set for the variable <code>N_g</code>."
      ],
      "metadata": {
        "id": "ZA-Rt-2u4yFJ"
      }
    },
    {
      "cell_type": "code",
      "source": [
        "# Problem data (linear element)\n",
        "Xe = np.array([2, 2.5])\n",
        "A = 1\n",
        "b = lambda x: x**4\n",
        "\n",
        "# Element load with Ng quadrature points\n",
        "Ng = 3\n",
        "if(Ng==3):\n",
        "    rg = np.sqrt(3/5)*np.array([-1, 0, 1])\n",
        "    wg = np.array([5/9, 8/9, 5/9])\n",
        "elif(Ng==2):\n",
        "    rg = np.sqrt(1/3)*np.array([-1, 1])\n",
        "    wg = np.array([1, 1])\n",
        "elif(Ng==1):\n",
        "    rg = [0]\n",
        "    wg = [2]\n",
        "# Initialize load vector\n",
        "Pe = np.zeros(2)\n",
        "# Compute quadrature via summation formula\n",
        "for i in range(Ng):\n",
        "    r = rg[i]\n",
        "    w = wg[i]\n",
        "    Nhat, DNhat = shape1D(r, order=1)\n",
        "    x = Nhat@Xe\n",
        "    J = DNhat@Xe\n",
        "    bval = b(x)\n",
        "    Pe += w*Nhat*bval*A*J\n",
        "# Print results:\n",
        "print(f'Pe with Ng = {Ng}: {Pe}')"
      ],
      "metadata": {
        "colab": {
          "base_uri": "https://localhost:8080/"
        },
        "id": "qhDGUmDD3C1-",
        "outputId": "69251184-b3fe-4a6f-83ad-7295ccf631ed"
      },
      "execution_count": null,
      "outputs": [
        {
          "output_type": "stream",
          "name": "stdout",
          "text": [
            "Pe with Ng = 3: [5.609375 7.521875]\n"
          ]
        }
      ]
    },
    {
      "cell_type": "markdown",
      "source": [
        "# Part 1: Numerical integration of an element stiffness matrix\n",
        "\n",
        "linear rod element with domain $X^e = [0,1,2]$ with area $A(x) = 1$ and a variable modulus $E(x) = 20x$. The stiffness matrix can be computed via\n",
        "\n",
        "\\begin{align}\n",
        "\\mathbf{K}^e &= \\int_{X_1^e}^{X_2^e} \\mathbf{B}^{e^T}(x)E(x)A(x)\\mathbf{B}^{e}(x)dx\\\\\n",
        "             &= \\int_{-1}^1 \\mathbf{\\hat{B}^e}^T(r)\\hat{E}(r)\\hat{A}(r)\\mathbf{\\hat{B}^e}J_e(r)dr\n",
        "\\end{align}\n",
        "\n",
        "Using Gauss quadrature, we can compute the integral numerically via\n",
        "\n",
        "$$\n",
        "\\mathbf{K}^e \\approx \\sum_{\\alpha=1}^{N_g} w_{\\alpha}\\mathbf{\\hat{B}}^{e^T}(r_\\alpha)\\hat{E}(r_{\\alpha})\\hat{A}(r_{\\alpha})\\mathbf{\\hat{B}}^{e^T}J_e(r_{\\alpha})dr\n",
        "$$\n",
        "\n",
        "In this proble, $\\hat{E}(r)$ has degree 1, $\\hat{A}(r)$ has degree 0, $\\mathbf{B}^{e}$ has degree 1, and $J_e(r)$ has degree 0. In total the integrand will have degree $d=1+1+0+1+0=3$, which means it will need at least $Ng\\ge\\frac{d+1}{2}=2$ points for exact integratiion.\n",
        "The code below is set up to compute the integral using 2 quadrature points."
      ],
      "metadata": {
        "id": "nrtZpyxI7HjA"
      }
    },
    {
      "cell_type": "code",
      "source": [
        "# Problem data (linear element)\n",
        "Xe = np.array([0, 1, 2])\n",
        "A = lambda x: 1\n",
        "E = lambda x: 20*x\n",
        "\n",
        "# Element stiffness with Ng quadrature points\n",
        "Ng = 2\n",
        "if(Ng==3):\n",
        "    rg = np.sqrt(3/5)*np.array([-1, 0, 1])\n",
        "    wg = np.array([5/9, 8/9, 5/9])\n",
        "elif(Ng==2):\n",
        "    rg = np.sqrt(1/3)*np.array([-1, 1])\n",
        "    wg = np.array([1, 1])\n",
        "elif(Ng==1):\n",
        "    rg = [0]\n",
        "    wg = [2]\n",
        "# Initialize stiffness matrix\n",
        "Ke = np.zeros((3, 3))\n",
        "for i in range(Ng):\n",
        "    r = rg[i]\n",
        "    w = wg[i]\n",
        "    Nhat, DNhat = shape1D(r, order=2)\n",
        "    x = Nhat@Xe\n",
        "    J = DNhat@Xe\n",
        "    B = (1/J)*DNhat\n",
        "    Eval = E(x)\n",
        "    Aval = A(x)\n",
        "    # np.outer computes B^T times B when B is a 1D numpy array\n",
        "    Ke += w*np.outer(B, B)*Eval*Aval*J\n",
        "print(f'Ke with Ng = {Ng}:\\n {Ke}')\n"
      ],
      "metadata": {
        "colab": {
          "base_uri": "https://localhost:8080/"
        },
        "id": "nMPt56HB6u3C",
        "outputId": "87c6a23d-c1f4-4edd-cc5e-16f4e97225dc"
      },
      "execution_count": 6,
      "outputs": [
        {
          "output_type": "stream",
          "name": "stdout",
          "text": [
            "Ke with Ng = 2:\n",
            " [[ 10.         -13.33333333   3.33333333]\n",
            " [-13.33333333  53.33333333 -40.        ]\n",
            " [  3.33333333 -40.          36.66666667]]\n"
          ]
        }
      ]
    },
    {
      "cell_type": "code",
      "source": [],
      "metadata": {
        "id": "CEKlxEHY9f47"
      },
      "execution_count": null,
      "outputs": []
    }
  ]
}