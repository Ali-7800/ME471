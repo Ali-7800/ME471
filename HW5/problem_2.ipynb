{
  "nbformat": 4,
  "nbformat_minor": 0,
  "metadata": {
    "colab": {
      "provenance": [],
      "include_colab_link": true
    },
    "kernelspec": {
      "name": "python3",
      "display_name": "Python 3"
    },
    "language_info": {
      "name": "python"
    }
  },
  "cells": [
    {
      "cell_type": "markdown",
      "metadata": {
        "id": "view-in-github",
        "colab_type": "text"
      },
      "source": [
        "<a href=\"https://colab.research.google.com/github/Ali-7800/ME471/blob/main/HW5/problem_2.ipynb\" target=\"_parent\"><img src=\"https://colab.research.google.com/assets/colab-badge.svg\" alt=\"Open In Colab\"/></a>"
      ]
    },
    {
      "cell_type": "markdown",
      "source": [
        "# Problem 2\n",
        "\n",
        "Below is a function <code>shape1D</code> which computes the isoparametric shape functions and derivatives for a linear element."
      ],
      "metadata": {
        "id": "uGlIr4EK4YFc"
      }
    },
    {
      "cell_type": "code",
      "execution_count": 2,
      "metadata": {
        "id": "yUgh4Yhd22eL"
      },
      "outputs": [],
      "source": [
        "import numpy as np\n",
        "\n",
        "# Shape functions\n",
        "def shape1D(r, order=1):\n",
        "    '''\n",
        "    Inputs:\n",
        "    * r (float): isoparametric coordinate on the interval [-1, 1]\n",
        "    * order (integer): polynomial intoptional argument.\n",
        "    ----> optional argument that defaults to 1 if omitted\n",
        "    Outputs:\n",
        "    * Nhat (1D numpy array): Shape function values at r\n",
        "    * DNhat (1D numpy array): Shape function derivative values, d(Nhat)/dr, at r\n",
        "    '''\n",
        "\n",
        "    # Linear\n",
        "    if(order==1):\n",
        "        Nhat = np.array([(1-r)/2, (1+r)/2])\n",
        "        DNhat = np.array([-0.5, 0.5])\n",
        "        return Nhat, DNhat\n",
        "    # Quadratic\n",
        "    if(order==2):\n",
        "        Nhat = np.array([(r-1)*r/2, (1+r)*(1-r),(r+1)*r/2])\n",
        "        DNhat = np.array([r-0.5, -2*r,r+0.5])\n",
        "        return Nhat, DNhat\n",
        "    else:\n",
        "        print('Warning: order>2 shape functions not implemented')\n",
        "        return"
      ]
    },
    {
      "cell_type": "markdown",
      "source": [
        "# Part 1: Numerical integration of an element stiffness matrix\n",
        "\n",
        "Linear rod element with domain $X^e = [0,1,2]$ with area $A(x) = 1$ and a variable modulus $E(x) = 20x$. The stiffness matrix can be computed via\n",
        "\n",
        "\\begin{align}\n",
        "\\mathbf{K}^e &= \\int_{X_1^e}^{X_2^e} \\mathbf{B}^{e^T}(x)E(x)A(x)\\mathbf{B}^{e}(x)dx\\\\\n",
        "             &= \\int_{-1}^1 \\mathbf{\\hat{B}^e}^T(r)\\hat{E}(r)\\hat{A}(r)\\mathbf{\\hat{B}^e}J_e(r)dr\n",
        "\\end{align}\n",
        "\n",
        "Using Gauss quadrature, we can compute the integral numerically via\n",
        "\n",
        "$$\n",
        "\\mathbf{K}^e \\approx \\sum_{\\alpha=1}^{N_g} w_{\\alpha}\\mathbf{\\hat{B}}^{e^T}(r_\\alpha)\\hat{E}(r_{\\alpha})\\hat{A}(r_{\\alpha})\\mathbf{\\hat{B}}^{e^T}J_e(r_{\\alpha})dr\n",
        "$$\n",
        "\n",
        "In this integral, $\\hat{E}(r)$ has degree 1, $\\hat{A}(r)$ has degree 0, $\\mathbf{\\hat{B}^e}$ has degree 1, and $J_e(r)$ has degree 0. In total the integrand will have degree $d=1+1+0+1+0=3$, which means it will need at least $Ng\\ge\\frac{d+1}{2}=2$ points for exact integration. Meaning 2 quadrature points will give an **exact result**.\n",
        "The code below is set up to compute the integral using 2 quadrature points."
      ],
      "metadata": {
        "id": "nrtZpyxI7HjA"
      }
    },
    {
      "cell_type": "code",
      "source": [
        "# Problem data (linear element)\n",
        "Xe = np.array([0, 1, 2])\n",
        "A = lambda x: 1\n",
        "E = lambda x: 20*x\n",
        "\n",
        "# Element stiffness with Ng quadrature points\n",
        "Ng = 2\n",
        "if(Ng==3):\n",
        "    rg = np.sqrt(3/5)*np.array([-1, 0, 1])\n",
        "    wg = np.array([5/9, 8/9, 5/9])\n",
        "elif(Ng==2):\n",
        "    rg = np.sqrt(1/3)*np.array([-1, 1])\n",
        "    wg = np.array([1, 1])\n",
        "elif(Ng==1):\n",
        "    rg = [0]\n",
        "    wg = [2]\n",
        "# Initialize stiffness matrix\n",
        "Ke = np.zeros((3, 3))\n",
        "for i in range(Ng):\n",
        "    r = rg[i]\n",
        "    w = wg[i]\n",
        "    Nhat, DNhat = shape1D(r, order=2)\n",
        "    x = Nhat@Xe\n",
        "    J = DNhat@Xe\n",
        "    B = (1/J)*DNhat\n",
        "    Eval = E(x)\n",
        "    Aval = A(x)\n",
        "    # np.outer computes B^T times B when B is a 1D numpy array\n",
        "    Ke += w*np.outer(B, B)*Eval*Aval*J\n",
        "print(f'Ke with Ng = {Ng}:\\n {Ke}')\n"
      ],
      "metadata": {
        "colab": {
          "base_uri": "https://localhost:8080/"
        },
        "id": "nMPt56HB6u3C",
        "outputId": "e0d75385-da54-4700-8b95-936a79d35da1"
      },
      "execution_count": 3,
      "outputs": [
        {
          "output_type": "stream",
          "name": "stdout",
          "text": [
            "Ke with Ng = 2:\n",
            " [[ 10.         -13.33333333   3.33333333]\n",
            " [-13.33333333  53.33333333 -40.        ]\n",
            " [  3.33333333 -40.          36.66666667]]\n"
          ]
        }
      ]
    },
    {
      "cell_type": "markdown",
      "source": [
        "# Part 2: Numerical integration of an element load vector\n",
        "\n",
        "Linear rod element with domain $X^e = [0,1,2]$ Suppose it has a constant area $A = 1$ and a body load $b(x) = x^2$. The load vector for the element can be computed via\n",
        "\n",
        "\\begin{align}\n",
        "\\mathbf{P}^e &= \\int_{X_1^e}^{X_2^e} \\mathbf{N}^{e^T}(x)b(x)A(x)dx\\\\\n",
        "             &= \\int_{-1}^1 \\mathbf{\\hat{N}}^T(r)\\hat{b}(r)\\hat{A}(r)J_e(r)dr\n",
        "\\end{align}\n",
        "\n",
        "Using Gauss quadrature, we can compute the integral numerically via\n",
        "\n",
        "$$\n",
        "\\mathbf{P}^e \\approx \\sum_{\\alpha=1}^{N_g} w_{\\alpha}\\mathbf{\\hat{N}}(r_\\alpha)\\hat{b}(r_{\\alpha})\\hat{A}(r_{\\alpha})J_e(r_{\\alpha})dr\n",
        "$$\n",
        "\n",
        "In this integral, ${\\hat{N}}(r)$ has degree 2, $\\hat{A}(r)$ has degree 0, $\\hat{b}(r)$ has degree 2, and $J_e(r)$ has degree 0. In total the integrand will have degree $d=2+2+0+0+0=4$, which means it will need at least $Ng\\ge\\frac{d+1}{2}=2.5$ points for exact integration. Meaning 2 quadrature points will give an **approximate result**.\n",
        "The code below is set up to compute the integral using 2 quadrature points."
      ],
      "metadata": {
        "id": "ZA-Rt-2u4yFJ"
      }
    },
    {
      "cell_type": "code",
      "source": [
        "# Problem data (linear element)\n",
        "Xe = np.array([0,1,2])\n",
        "A = 1\n",
        "b = lambda x: x**2\n",
        "\n",
        "# Element load with Ng quadrature points\n",
        "Ng = 2\n",
        "if(Ng==3):\n",
        "    rg = np.sqrt(3/5)*np.array([-1, 0, 1])\n",
        "    wg = np.array([5/9, 8/9, 5/9])\n",
        "elif(Ng==2):\n",
        "    rg = np.sqrt(1/3)*np.array([-1, 1])\n",
        "    wg = np.array([1, 1])\n",
        "elif(Ng==1):\n",
        "    rg = [0]\n",
        "    wg = [2]\n",
        "# Initialize load vector\n",
        "Pe = np.zeros(3)\n",
        "# Compute quadrature via summation formula\n",
        "for i in range(Ng):\n",
        "    r = rg[i]\n",
        "    w = wg[i]\n",
        "    Nhat, DNhat = shape1D(r, order=2)\n",
        "    x = Nhat@Xe\n",
        "    J = DNhat@Xe\n",
        "    bval = b(x)\n",
        "    Pe += w*Nhat*bval*A*J\n",
        "# Print results:\n",
        "print(f'Pe with Ng = {Ng}: {Pe}')"
      ],
      "metadata": {
        "colab": {
          "base_uri": "https://localhost:8080/"
        },
        "id": "qhDGUmDD3C1-",
        "outputId": "886454f0-88de-4da6-b201-4c6dde7c09ff"
      },
      "execution_count": 10,
      "outputs": [
        {
          "output_type": "stream",
          "name": "stdout",
          "text": [
            "Pe with Ng = 2: [-0.22222222  1.77777778  1.11111111]\n"
          ]
        }
      ]
    },
    {
      "cell_type": "markdown",
      "source": [
        "# Part 3: Solving for nodal values and reaction forces\n",
        "\n",
        "Assemble system and solve\n",
        "\n",
        "---\n",
        "\n"
      ],
      "metadata": {
        "id": "O2avdZTSO_Vw"
      }
    },
    {
      "cell_type": "code",
      "source": [
        "F_p = np.array([0,0,5])\n",
        "P_UR = Pe + F_p\n",
        "P_f = P_UR[1:]\n",
        "P_p = P_UR[0]\n",
        "K_PP = Ke[0,0].reshape(1,1)\n",
        "K_PF = Ke[0,1:].reshape(1,2)\n",
        "K_FP = Ke[1:,0].reshape(2,1)\n",
        "K_FF = Ke[1:,1:]\n",
        "U_p = np.array([0])\n",
        "U_f = np.linalg.solve(K_FF,P_f-K_FP@U_p)\n",
        "F_R = K_PP@U_p + K_PF@U_f - P_p\n",
        "print(\"Unknown Nodal values U_F={0}\".format(U_f))\n",
        "print(\"Unknown wall reaction force F_R={0}\".format(F_R))\n",
        "b_integral = lambda x:x**3/3\n",
        "print(\"Sanity Check: Sum of external forces on beam={0}\".format(F_p.sum()+A*(b_integral(2)-b_integral(0))))"
      ],
      "metadata": {
        "id": "CEKlxEHY9f47",
        "colab": {
          "base_uri": "https://localhost:8080/"
        },
        "outputId": "987b92c0-55ed-4081-cfee-137718fbbe9a"
      },
      "execution_count": 15,
      "outputs": [
        {
          "output_type": "stream",
          "name": "stdout",
          "text": [
            "Unknown Nodal values U_F=[0.87083333 1.11666667]\n",
            "Unknown wall reaction force F_R=[-7.66666667]\n",
            "Sanity Check: Sum of external forces on beam=7.666666666666666\n"
          ]
        }
      ]
    },
    {
      "cell_type": "markdown",
      "source": [
        "# Part 4: Plotting displacement and stress solutions\n"
      ],
      "metadata": {
        "id": "ic-kJLx1PUD3"
      }
    },
    {
      "cell_type": "code",
      "source": [
        "import matplotlib.pyplot as plt\n",
        "U_ur = np.concatenate((U_p,U_f))\n",
        "#create displacement vector\n",
        "displacment = np.zeros_like(x)\n",
        "plt.plot(Xe, U_ur,marker='.',markersize=10)\n",
        "plt.title(\"Displacement Solution\")\n",
        "plt.xlabel(\"x\")\n",
        "plt.ylabel(\"u\")\n",
        "plt.show()"
      ],
      "metadata": {
        "id": "95eov4AePhq2",
        "outputId": "521d981c-f49c-4de2-acdd-a6cc52e8168a",
        "colab": {
          "base_uri": "https://localhost:8080/",
          "height": 472
        }
      },
      "execution_count": 40,
      "outputs": [
        {
          "output_type": "display_data",
          "data": {
            "text/plain": [
              "<Figure size 640x480 with 1 Axes>"
            ],
            "image/png": "[encoded data removed]"
          },
          "metadata": {}
        }
      ]
    },
    {
      "cell_type": "code",
      "source": [
        "#create stress vector\n",
        "strain_e = U_ur[1:] - U_ur[:-1]\n",
        "x = np.linspace(0,2,1000)\n",
        "element_1_idx = x<=1\n",
        "element_2_idx = (x<=2)*(x>1)\n",
        "stress = np.zeros_like(x)\n",
        "stress[element_1_idx] = strain_e[0]*20*x[element_1_idx]\n",
        "stress[element_2_idx] = strain_e[1]*20*x[element_2_idx]\n",
        "plt.plot(x, stress,marker='.',markersize=1)\n",
        "plt.title(\"Stress Solution\")\n",
        "plt.xlabel(\"x\")\n",
        "plt.ylabel(\"$\\sigma$\")\n",
        "plt.show()"
      ],
      "metadata": {
        "id": "nia1Uj0LFS74",
        "outputId": "67d4c320-5ab6-4818-c994-6cf79e795b9e",
        "colab": {
          "base_uri": "https://localhost:8080/",
          "height": 472
        }
      },
      "execution_count": 45,
      "outputs": [
        {
          "output_type": "display_data",
          "data": {
            "text/plain": [
              "<Figure size 640x480 with 1 Axes>"
            ],
            "image/png": "[encoded data removed]"
          },
          "metadata": {}
        }
      ]
    }
  ]
}